{
 "cells": [
  {
   "cell_type": "markdown",
   "metadata": {},
   "source": [
    "### Assignment 4\n",
    "\n",
    "#### Submit your assignment as .ipynb"
   ]
  },
  {
   "cell_type": "markdown",
   "metadata": {},
   "source": [
    "#### Exercise 1.\n",
    "\n",
    "Write a function"
   ]
  },
  {
   "cell_type": "code",
   "execution_count": 2,
   "metadata": {
    "pycharm": {
     "name": "#%%\n"
    }
   },
   "outputs": [],
   "source": [
    "def MyFirstDeriv(f, x0, h):\n",
    "    def fun_1(h):\n",
    "        return (f(x0+h)-f(x0-h))/(2*h)\n",
    "    return (4*fun_1(h)-fun_1(2*h))/3"
   ]
  },
  {
   "cell_type": "code",
   "execution_count": 3,
   "metadata": {},
   "outputs": [
    {
     "name": "stdout",
     "output_type": "stream",
     "text": [
      "h: 10.000000000095119 \th/2: 9.999999999947088\n"
     ]
    }
   ],
   "source": [
    "def f(x):\n",
    "    return 5*x**2+9\n",
    "a=MyFirstDeriv(f,x0=1,h=1e-5)\n",
    "b=MyFirstDeriv(f,x0=1,h=0.5*1e-5)\n",
    "print(\"h:\",a,\"\\th/2:\",b)"
   ]
  },
  {
   "cell_type": "markdown",
   "metadata": {},
   "source": [
    "to compute the derivative $f'(x_0)$ of the function $f$ of an unknown form, using Richardson extrapolation with the central difference g(h) and the step sizes $h$ and $\\displaystyle \\frac{h}{2}$.\n",
    "Conduct some simple test cases for the function.\n"
   ]
  },
  {
   "cell_type": "markdown",
   "metadata": {},
   "source": [
    "#### Exercise 2.\n",
    "\n",
    "This exercise considers a smoothed version of binomial tree pricer for American put options.\n",
    "Unlike the standard binomial tree pricer that evaluates the payoff function at the final time step,\n",
    "we can skip the final time step payoff evaluation, but start from the second last time step by applying Black-Scholes analytic formula for European put option to calculate the continuation value.\n",
    "This is because the American early exercise feature vanishes at the last time step. So at the second time step, if the option holder decides not to exercise, he/she has left with a European option with time to expiry equal to the time interval $\\Delta t$.\n",
    "Note that you still need to update the node's value using maximum of continuation value and exercise value at the second last step.\n",
    "Compared with the standard tree pricer where the final time slice is a non-differentiable function at the strike,\n",
    "the smooth Black-Scholes analytic formula would help stablizing the risk sensitivities.\n",
    "\n",
    "Implement the function"
   ]
  },
  {
   "cell_type": "code",
   "execution_count": 4,
   "metadata": {},
   "outputs": [],
   "source": [
    "def cnorm(x):\n",
    "    return (1.0 + math.erf(x / math.sqrt(2.0))) / 2.0\n",
    "def bsPrice(S, r, v, T, K):\n",
    "    fwd = S * math.exp(r * T)\n",
    "    stdev = v * math.sqrt(T)\n",
    "    d1 = math.log(fwd / K) / stdev + stdev / 2\n",
    "    d2 = d1 - stdev\n",
    "    return math.exp(-r * T) * (K * cnorm(-d2) - cnorm(-d1) * fwd)"
   ]
  },
  {
   "cell_type": "code",
   "execution_count": 5,
   "metadata": {
    "pycharm": {
     "name": "#%%\n"
    }
   },
   "outputs": [],
   "source": [
    "def amerPutSmooth(S, T, v, r, n, K):\n",
    "    t = T / n\n",
    "    b = math.exp(v * v * t+r*t) + math.exp(-r * t)\n",
    "    u = (b + math.sqrt(b*b - 4)) / 2\n",
    "    p = (math.exp(r * t) - (1/u)) / (u - 1/u)\n",
    "    #vs = [bsPrice(S*u**(n-i-i), r, v, t, K) for i in range(n+1)]\n",
    "    vs = [max((K - S * u**(n-i-i)),0) for i in range(n+1)]\n",
    "    for j in range(n):\n",
    "        nodeS = S * u**(n-1-j-j)\n",
    "        continuation = math.exp(-r * t) * (vs[j] * p + vs[j+1] * (1-p))\n",
    "        if max(K-nodeS,0)<=continuation:    \n",
    "            vs[j] = bsPrice(S*u**(n-1-j-j), r, v, t, K)\n",
    "        else:\n",
    "            vs[j]=max(K-nodeS,0)\n",
    "    for i in range(n-2, -1, -1):\n",
    "        for j in range(i+1):\n",
    "            nodeS = S * u**(i-j-j)\n",
    "            continuation = math.exp(-r * t) * (vs[j] * p + vs[j+1] * (1-p))\n",
    "            vs[j] = max(max((K - nodeS),0),continuation)\n",
    "    return vs[0]"
   ]
  },
  {
   "cell_type": "code",
   "execution_count": 6,
   "metadata": {},
   "outputs": [],
   "source": [
    "def amerPutStandard(S, T, v, r, n, K):\n",
    "    t = T / n\n",
    "    b = math.exp(v * v * t+r*t) + math.exp(-r * t)\n",
    "    u = (b + math.sqrt(b*b - 4)) / 2\n",
    "    p = (math.exp(r * t) - (1/u)) / (u - 1/u)\n",
    "    vs = [max((K - S * u**(n-i-i)),0) for i in range(n+1)]\n",
    "    for i in range(n-1, -1, -1):\n",
    "        for j in range(i+1):\n",
    "            nodeS = S * u**(i-j-j)\n",
    "            continuation = math.exp(-r * t) * (vs[j] * p + vs[j+1] * (1-p))\n",
    "            vs[j] = max(max((K - nodeS),0),continuation)\n",
    "    return vs[0]"
   ]
  },
  {
   "cell_type": "code",
   "execution_count": 7,
   "metadata": {},
   "outputs": [
    {
     "data": {
      "text/plain": [
       "<matplotlib.legend.Legend at 0x1f1ae4101f0>"
      ]
     },
     "execution_count": 7,
     "metadata": {},
     "output_type": "execute_result"
    },
    {
     "data": {
      "image/png": "[encoded data removed]",
      "text/plain": [
       "<Figure size 432x288 with 1 Axes>"
      ]
     },
     "metadata": {
      "needs_background": "light"
     },
     "output_type": "display_data"
    }
   ],
   "source": [
    "#1)\n",
    "import math\n",
    "import matplotlib.pyplot as plt\n",
    "S,K,T,v,r=100,108,1,0.15,0.03\n",
    "N=range(5,200)\n",
    "Delta_smooth=[]\n",
    "for n in N:\n",
    "    def testamputsmooth(S):\n",
    "        return amerPutSmooth(S, T, v, r, n, K)\n",
    "    delta=MyFirstDeriv(testamputsmooth, 100, 1)\n",
    "    Delta_smooth.append(delta)\n",
    "    \n",
    "Delta_standard=[]\n",
    "for n in N:\n",
    "    def testamputstandard(S):\n",
    "        return amerPutStandard(S, T, v, r, n, K)\n",
    "    delta=MyFirstDeriv(testamputstandard, 100, 1)\n",
    "    Delta_standard.append(delta)\n",
    "plt.rcParams['axes.unicode_minus'] = False\n",
    "plt.plot(N,Delta_smooth,label=\"smooth\")\n",
    "plt.plot(N,Delta_standard,label=\"standard\")\n",
    "plt.legend()"
   ]
  },
  {
   "cell_type": "code",
   "execution_count": 8,
   "metadata": {},
   "outputs": [
    {
     "data": {
      "text/plain": [
       "<matplotlib.legend.Legend at 0x1f1aebdbd00>"
      ]
     },
     "execution_count": 8,
     "metadata": {},
     "output_type": "execute_result"
    },
    {
     "data": {
      "image/png": "[encoded data removed]",
      "text/plain": [
       "<Figure size 432x288 with 1 Axes>"
      ]
     },
     "metadata": {
      "needs_background": "light"
     },
     "output_type": "display_data"
    }
   ],
   "source": [
    "#2)\n",
    "n,K,T,v,r=200,108,1,0.15,0.03\n",
    "S=range(75,150)\n",
    "Delta_smooth=[]\n",
    "def testamputsmooth(S):\n",
    "    return amerPutSmooth(S, T, v, r, n, K)\n",
    "for s in S:\n",
    "    delta=MyFirstDeriv(testamputsmooth, s, 1)\n",
    "    Delta_smooth.append(delta)\n",
    "\n",
    "Delta_standard=[]\n",
    "def testamputstandard(S):\n",
    "    return amerPutStandard(S, T, v, r, n, K)\n",
    "for s in S:    \n",
    "    delta=MyFirstDeriv(testamputstandard, s, 1)\n",
    "    Delta_standard.append(delta)\n",
    "plt.plot(S,Delta_smooth,label=\"smooth\")\n",
    "plt.plot(S,Delta_standard,label=\"standard\")\n",
    "plt.legend()"
   ]
  },
  {
   "cell_type": "markdown",
   "metadata": {},
   "source": [
    "to explore this method with CRR binomial model. Conduct two test cases:\n",
    "\n",
    "1) Plot the option's delta (using MyFirstDeriv implemented in Exercise 1 with step size $h$ set to 1 dollar)\n",
    "for $n$ from 5 to 200, for both the smoothed version of the pricer and the standard American put option pricer given in the example code,\n",
    "with $S = 100, K = 108, T = 1, v = 15\\%, r = 3\\%$.\n",
    "\n",
    "2) Plot the option's delta\n",
    "for $S$ from 75 to 150, for both the smoothed version of the pricer and the standard American put option pricer given in the example code,\n",
    "with $n = 200, K = 108, T = 1, v = 15\\%, r = 3\\%$."
   ]
  },
  {
   "cell_type": "markdown",
   "metadata": {
    "pycharm": {
     "name": "#%% md\n"
    }
   },
   "source": [
    "#### Exercise 3.\n",
    "\n",
    "A double no touch option has two barrier levels: upBarrier and downBarrier.\n",
    "When the stock price touches one of the barriers the option is terminated.\n",
    "If the barriers are not touched until the option expiry date, the option pays 1 dollar.\n",
    "\n",
    "Implement a double no touch option pricer in PDE with Crank-Nicolson scheme."
   ]
  },
  {
   "cell_type": "code",
   "execution_count": 9,
   "metadata": {
    "pycharm": {
     "name": "#%%\n"
    }
   },
   "outputs": [],
   "source": [
    "import numpy as np\n",
    "\n",
    "def dntPDEPricer(S, T, r, q, v, upBarrier, downBarrier, nT, nS):\n",
    "    mu = r - q\n",
    "    srange = 5 * v * math.sqrt(T)\n",
    "    maxS = S * math.exp((mu - v * v * 0.5)*T + srange)\n",
    "    minS = S * math.exp((mu - v * v * 0.5)*T - srange)\n",
    "    dt = T / (nT-1)\n",
    "    ds = (maxS - minS) / (nS-1)\n",
    "    sGrid = np.array([minS + i*ds for i in range(nS)])\n",
    "    def payoff(s):\n",
    "        if s >= upBarrier or s <=downBarrier:\n",
    "            x = 0\n",
    "        else:\n",
    "            x = 1\n",
    "        return x\n",
    "    ps = np.array([payoff(s) for s in sGrid])\n",
    "    a, b = mu/2.0/ds, v * v / ds / ds    \n",
    "    M = np.zeros((nS, nS))\n",
    "    D = np.zeros((nS, nS))    \n",
    "    for i in range (1, nS-1):\n",
    "        M[i, i-1] = a*sGrid[i] - b*sGrid[i]*sGrid[i]/2.0\n",
    "        M[i, i] = r + b * sGrid[i] * sGrid[i]\n",
    "        M[i, i+1] = -a * sGrid[i] - b*sGrid[i]*sGrid[i]/2.0\n",
    "        D[i,i] = 1.0\n",
    "    M[0,0], M[nS-1, nS-1] = 1.0, 1.0\n",
    "    w = 0.5\n",
    "    rhsM = (D - dt * M) * w + (1-w) * np.identity(nS)\n",
    "    lhsM = w * np.identity(nS) + (D + dt * M) * (1-w)\n",
    "    inv = np.linalg.inv(lhsM)\n",
    "    for j in range(1, nT):\n",
    "        ps = rhsM.dot(ps)\n",
    "        ps[0] = dt*math.exp(-r*j*dt) * payoff(sGrid[0]) \n",
    "        ps[nS-1] = dt*math.exp(-r*j*dt) * payoff(sGrid[nS-1])\n",
    "        ps = inv.dot(ps)\n",
    "    return np.interp(S, sGrid, ps)"
   ]
  },
  {
   "cell_type": "code",
   "execution_count": 10,
   "metadata": {},
   "outputs": [
    {
     "data": {
      "text/plain": [
       "<matplotlib.legend.Legend at 0x1f1ab94c850>"
      ]
     },
     "execution_count": 10,
     "metadata": {},
     "output_type": "execute_result"
    },
    {
     "data": {
      "image/png": "[encoded data removed]",
      "text/plain": [
       "<Figure size 432x288 with 1 Axes>"
      ]
     },
     "metadata": {
      "needs_background": "light"
     },
     "output_type": "display_data"
    }
   ],
   "source": [
    "S,T,v,r,q,nT,nS = 100, 1, 0.15, 0.05, 0.03, 100, 100\n",
    "def Doublenotouch(x):\n",
    "    upBarrier = 100+x\n",
    "    downBarrier = 100-x\n",
    "    return dntPDEPricer(S, T, r, q, v, upBarrier, downBarrier, nT, nS)\n",
    "X = range(100)\n",
    "price=[]\n",
    "for x in X:\n",
    "    pc=Doublenotouch(x)\n",
    "    price.append(pc)\n",
    "plt.plot(X,price,label=\"doule no touch\")\n",
    "plt.legend()"
   ]
  },
  {
   "cell_type": "code",
   "execution_count": 11,
   "metadata": {},
   "outputs": [
    {
     "name": "stdout",
     "output_type": "stream",
     "text": [
      "The price converges to 0.9512253380050055\n"
     ]
    }
   ],
   "source": [
    "a = Doublenotouch(100)\n",
    "print(\"The price converges to\",a)"
   ]
  },
  {
   "cell_type": "markdown",
   "metadata": {
    "pycharm": {
     "name": "#%% md\n"
    }
   },
   "source": [
    "When the spot is beyond the up and down barriers the option worths 0,\n",
    "so we can set the boundaries of the S grid at exactly the up and down barrier levels, and use Dirichlet boundary condition.\n",
    "\n",
    "For $S_0 = 100, T = 1, \\sigma = 15\\%, r = 5\\%, q = 3\\%, nT = 100, nS = 100$,\n",
    "plot the double no touch price as a function of x which determines the barrier levels: upBarrier = 100+x, downBarrier = 100-x. What should be the price converges to when x is large enough?\n",
    "Verify that is the case in the plot.\n"
   ]
  },
  {
   "cell_type": "markdown",
   "metadata": {},
   "source": [
    "#### Exercise 4.\n",
    "\n",
    "a) Write a ODE solver using Euler explicit method:"
   ]
  },
  {
   "cell_type": "code",
   "execution_count": 12,
   "metadata": {
    "pycharm": {
     "name": "#%%\n"
    }
   },
   "outputs": [],
   "source": [
    "def eulerODEExplicit(f, x0, y0, n, x):\n",
    "    h = (x-x0)/n\n",
    "    for i in range(n):\n",
    "        y0 += f(x0,y0)*h\n",
    "        x0 += h\n",
    "    return y0"
   ]
  },
  {
   "cell_type": "markdown",
   "metadata": {
    "pycharm": {
     "name": "#%% md\n"
    }
   },
   "source": [
    "The function returns the value $y$ at the given $x$ by solveing the ODE:\n",
    "\\begin{align}\n",
    "y' = f(x,y)\n",
    "\\end{align}\n",
    "with initial value $(x_0, y_0)$ and number of time steps $n$.\n",
    "\n",
    "b) Write a ODE solver using Euler implicit method:"
   ]
  },
  {
   "cell_type": "code",
   "execution_count": 13,
   "metadata": {
    "pycharm": {
     "name": "#%%\n"
    }
   },
   "outputs": [],
   "source": [
    "def eulerODEImplicit(f, x0, y0, n, x):\n",
    "    h = (x-x0)/n\n",
    "    for i in range(n):\n",
    "        y0 = y0/(1+3*h)\n",
    "    return y0"
   ]
  },
  {
   "cell_type": "markdown",
   "metadata": {},
   "source": [
    "c) And Crank-Nicholson:"
   ]
  },
  {
   "cell_type": "code",
   "execution_count": 14,
   "metadata": {
    "pycharm": {
     "name": "#%%\n"
    }
   },
   "outputs": [],
   "source": [
    "def eulerODECrankN(f, x0, y0, n, x):\n",
    "    h = (x-x0)/n\n",
    "    for i in range(n):\n",
    "        y0 += h*f(x0+h/2,y0+h/2*f(x0,y0))\n",
    "        x0 += h\n",
    "    return y0"
   ]
  },
  {
   "cell_type": "markdown",
   "metadata": {},
   "source": [
    "d) Test the three solvers with the ODE:\n",
    "\\begin{align}\n",
    "y' = -3y\n",
    "\\end{align}\n",
    "using initial point x0 = 0, y0 = 1, solve $y$ for $x$ from $[-15, -14, \\ldots, 15]$ with a reasonable choice of $n$.\n",
    "Print out the errors of the solver for each $x$ (note that the error is not necessarily small for all $x$ and all methods, explain the source of errors for the cases the error is obviously not small)."
   ]
  },
  {
   "cell_type": "code",
   "execution_count": 15,
   "metadata": {},
   "outputs": [
    {
     "data": {
      "text/plain": [
       "<matplotlib.legend.Legend at 0x1f1afe12d90>"
      ]
     },
     "execution_count": 15,
     "metadata": {},
     "output_type": "execute_result"
    },
    {
     "data": {
      "image/png": "[encoded data removed]",
      "text/plain": [
       "<Figure size 432x288 with 1 Axes>"
      ]
     },
     "metadata": {
      "needs_background": "light"
     },
     "output_type": "display_data"
    }
   ],
   "source": [
    "x0,y0,n=0,1,10000\n",
    "def f(x,y):\n",
    "    return -3*y\n",
    "X = range(-15,16)\n",
    "err_exp=[]\n",
    "err_imp=[]\n",
    "err_cra=[]\n",
    "for x in X:\n",
    "    y_correct = math.exp(-3*x)\n",
    "    y_exp = eulerODEExplicit(f, x0, y0, n, x)\n",
    "    y_imp = eulerODEImplicit(f, x0, y0, n, x)\n",
    "    y_cra = eulerODECrankN(f, x0, y0, n, x)\n",
    "    err_exp.append((y_correct-y_exp)/y_correct)\n",
    "    err_imp.append((y_correct-y_imp)/y_correct)\n",
    "    err_cra.append((y_correct-y_cra)/y_correct)\n",
    "plt.title(\"Error\")\n",
    "plt.plot(X,err_exp,label=\"Explicit\")\n",
    "plt.plot(X,err_imp,label=\"Implicit\")\n",
    "plt.plot(X,err_cra,label=\"CrankN\")\n",
    "plt.legend()"
   ]
  },
  {
   "cell_type": "markdown",
   "metadata": {},
   "source": [
    "When the absolute value of x is very large, it will lead to a large h, which will lead to a large error, and the accuracy of explicit and implicit is first-order, and the accuracy of CrankN is third-order, so Euler implicit and explicit scheme will lead to bigger truncation error. "
   ]
  },
  {
   "cell_type": "code",
   "execution_count": null,
   "metadata": {},
   "outputs": [],
   "source": []
  }
 ],
 "metadata": {
  "kernelspec": {
   "display_name": "Python 3 (ipykernel)",
   "language": "python",
   "name": "python3"
  },
  "language_info": {
   "codemirror_mode": {
    "name": "ipython",
    "version": 3
   },
   "file_extension": ".py",
   "mimetype": "text/x-python",
   "name": "python",
   "nbconvert_exporter": "python",
   "pygments_lexer": "ipython3",
   "version": "3.9.7"
  }
 },
 "nbformat": 4,
 "nbformat_minor": 1
}
